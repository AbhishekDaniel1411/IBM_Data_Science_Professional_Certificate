{
  "cells": [
    {
      "cell_type": "markdown",
      "metadata": {
        "id": "view-in-github",
        "colab_type": "text"
      },
      "source": [
        "<a href=\"https://colab.research.google.com/github/AbhishekDaniel1411/IBM_Data_Science_Professional_Certificate/blob/main/Capstone_project/falcon9_landing_prediction/EDA_sql.ipynb\" target=\"_parent\"><img src=\"https://colab.research.google.com/assets/colab-badge.svg\" alt=\"Open In Colab\"/></a>"
      ]
    },
    {
      "cell_type": "markdown",
      "metadata": {
        "id": "PKqSwV0PdLjQ"
      },
      "source": [
        "### Download the datasets\n",
        "\n",
        "This assignment requires you to load the spacex dataset.\n",
        "\n",
        "In many cases the dataset to be analyzed is available as a .CSV (comma separated values) file, perhaps on the internet. Click on the link below to download and save the dataset (.CSV file):\n",
        "\n",
        " <a href=\"https://cf-courses-data.s3.us.cloud-object-storage.appdomain.cloud/IBM-DS0321EN-SkillsNetwork/labs/module_2/data/Spacex.csv\" target=\"_blank\">Spacex DataSet</a>\n",
        "\n"
      ]
    },
    {
      "cell_type": "code",
      "execution_count": null,
      "metadata": {
        "id": "L1q2a6hcdLjS"
      },
      "outputs": [],
      "source": [
        "#Please uncomment and execute the code below if needed.\n",
        "\n",
        "#!pip install ipython-sql\n",
        "#!pip install sqlalchemy"
      ]
    },
    {
      "cell_type": "code",
      "execution_count": null,
      "metadata": {
        "id": "GgtiLo-fdLjT"
      },
      "outputs": [],
      "source": [
        "%load_ext sql"
      ]
    },
    {
      "cell_type": "code",
      "execution_count": null,
      "metadata": {
        "id": "0hnPOvw0dLjT"
      },
      "outputs": [],
      "source": [
        "import csv, sqlite3\n",
        "\n",
        "conn = sqlite3.connect('data1.sql')\n",
        "cur = conn.cursor()"
      ]
    },
    {
      "cell_type": "code",
      "execution_count": null,
      "metadata": {
        "id": "psFFZyi3dLjT"
      },
      "outputs": [],
      "source": [
        "%sql sqlite:///data1.sql"
      ]
    },
    {
      "cell_type": "code",
      "execution_count": null,
      "metadata": {
        "id": "qYJeP6JadLjT",
        "outputId": "39b38d43-c0a4-45ae-ceb1-771b5dd508c4",
        "colab": {
          "base_uri": "https://localhost:8080/"
        }
      },
      "outputs": [
        {
          "output_type": "execute_result",
          "data": {
            "text/plain": [
              "101"
            ]
          },
          "metadata": {},
          "execution_count": 5
        }
      ],
      "source": [
        "import pandas as pd\n",
        "\n",
        "df = pd.read_csv(\"https://cf-courses-data.s3.us.cloud-object-storage.appdomain.cloud/IBM-DS0321EN-SkillsNetwork/labs/module_2/data/Spacex.csv\")\n",
        "df.to_sql(\"SPACEXTBL\", conn, if_exists='replace', index=False, method=\"multi\")"
      ]
    },
    {
      "cell_type": "code",
      "source": [
        "df"
      ],
      "metadata": {
        "id": "wmBBo2qRdvjZ",
        "outputId": "0c135c3d-d821-406a-eadf-576715c82146",
        "colab": {
          "base_uri": "https://localhost:8080/",
          "height": 615
        }
      },
      "execution_count": null,
      "outputs": [
        {
          "output_type": "execute_result",
          "data": {
            "text/plain": [
              "           Date Time (UTC) Booster_Version   Launch_Site  \\\n",
              "0    2010-06-04   18:45:00  F9 v1.0  B0003   CCAFS LC-40   \n",
              "1    2010-12-08   15:43:00  F9 v1.0  B0004   CCAFS LC-40   \n",
              "2    2012-05-22    7:44:00  F9 v1.0  B0005   CCAFS LC-40   \n",
              "3    2012-10-08    0:35:00  F9 v1.0  B0006   CCAFS LC-40   \n",
              "4    2013-03-01   15:10:00  F9 v1.0  B0007   CCAFS LC-40   \n",
              "..          ...        ...             ...           ...   \n",
              "96   2020-11-05   23:24:23    F9 B5B1062.1  CCAFS SLC-40   \n",
              "97   2020-11-16    0:27:00   F9 B5B1061.1     KSC LC-39A   \n",
              "98   2020-11-21   17:17:08    F9 B5B1063.1   VAFB SLC-4E   \n",
              "99   2020-11-25    2:13:00  F9 B5 B1049.7   CCAFS SLC-40   \n",
              "100  2020-12-06   16:17:08  F9 B5 B1058.4     KSC LC-39A   \n",
              "\n",
              "                                               Payload  PAYLOAD_MASS__KG_  \\\n",
              "0                 Dragon Spacecraft Qualification Unit                  0   \n",
              "1    Dragon demo flight C1, two CubeSats, barrel of...                  0   \n",
              "2                                Dragon demo flight C2                525   \n",
              "3                                         SpaceX CRS-1                500   \n",
              "4                                         SpaceX CRS-2                677   \n",
              "..                                                 ...                ...   \n",
              "96                                 GPS III-04 , Crew-1               4311   \n",
              "97                Crew-1, Sentinel-6 Michael Freilich               12500   \n",
              "98      Sentinel-6 Michael Freilich, Starlink 15 v1.0                1192   \n",
              "99                     Starlink 15 v1.0, SpaceX CRS-21              15600   \n",
              "100                                      SpaceX CRS-21               2972   \n",
              "\n",
              "         Orbit                      Customer Mission_Outcome  \\\n",
              "0          LEO                        SpaceX         Success   \n",
              "1    LEO (ISS)               NASA (COTS) NRO         Success   \n",
              "2    LEO (ISS)                   NASA (COTS)         Success   \n",
              "3    LEO (ISS)                    NASA (CRS)         Success   \n",
              "4    LEO (ISS)                    NASA (CRS)         Success   \n",
              "..         ...                           ...             ...   \n",
              "96         MEO                          USSF         Success   \n",
              "97   LEO (ISS)                    NASA (CCP)         Success   \n",
              "98         LEO  NASA / NOAA / ESA / EUMETSAT         Success   \n",
              "99         LEO                        SpaceX         Success   \n",
              "100  LEO (ISS)                    NASA (CRS)         Success   \n",
              "\n",
              "         Landing_Outcome  \n",
              "0    Failure (parachute)  \n",
              "1    Failure (parachute)  \n",
              "2             No attempt  \n",
              "3             No attempt  \n",
              "4             No attempt  \n",
              "..                   ...  \n",
              "96               Success  \n",
              "97               Success  \n",
              "98               Success  \n",
              "99               Success  \n",
              "100              Success  \n",
              "\n",
              "[101 rows x 10 columns]"
            ],
            "text/html": [
              "\n",
              "  <div id=\"df-6beb2abd-6526-4ea0-81bb-767f1933ac78\" class=\"colab-df-container\">\n",
              "    <div>\n",
              "<style scoped>\n",
              "    .dataframe tbody tr th:only-of-type {\n",
              "        vertical-align: middle;\n",
              "    }\n",
              "\n",
              "    .dataframe tbody tr th {\n",
              "        vertical-align: top;\n",
              "    }\n",
              "\n",
              "    .dataframe thead th {\n",
              "        text-align: right;\n",
              "    }\n",
              "</style>\n",
              "<table border=\"1\" class=\"dataframe\">\n",
              "  <thead>\n",
              "    <tr style=\"text-align: right;\">\n",
              "      <th></th>\n",
              "      <th>Date</th>\n",
              "      <th>Time (UTC)</th>\n",
              "      <th>Booster_Version</th>\n",
              "      <th>Launch_Site</th>\n",
              "      <th>Payload</th>\n",
              "      <th>PAYLOAD_MASS__KG_</th>\n",
              "      <th>Orbit</th>\n",
              "      <th>Customer</th>\n",
              "      <th>Mission_Outcome</th>\n",
              "      <th>Landing_Outcome</th>\n",
              "    </tr>\n",
              "  </thead>\n",
              "  <tbody>\n",
              "    <tr>\n",
              "      <th>0</th>\n",
              "      <td>2010-06-04</td>\n",
              "      <td>18:45:00</td>\n",
              "      <td>F9 v1.0  B0003</td>\n",
              "      <td>CCAFS LC-40</td>\n",
              "      <td>Dragon Spacecraft Qualification Unit</td>\n",
              "      <td>0</td>\n",
              "      <td>LEO</td>\n",
              "      <td>SpaceX</td>\n",
              "      <td>Success</td>\n",
              "      <td>Failure (parachute)</td>\n",
              "    </tr>\n",
              "    <tr>\n",
              "      <th>1</th>\n",
              "      <td>2010-12-08</td>\n",
              "      <td>15:43:00</td>\n",
              "      <td>F9 v1.0  B0004</td>\n",
              "      <td>CCAFS LC-40</td>\n",
              "      <td>Dragon demo flight C1, two CubeSats, barrel of...</td>\n",
              "      <td>0</td>\n",
              "      <td>LEO (ISS)</td>\n",
              "      <td>NASA (COTS) NRO</td>\n",
              "      <td>Success</td>\n",
              "      <td>Failure (parachute)</td>\n",
              "    </tr>\n",
              "    <tr>\n",
              "      <th>2</th>\n",
              "      <td>2012-05-22</td>\n",
              "      <td>7:44:00</td>\n",
              "      <td>F9 v1.0  B0005</td>\n",
              "      <td>CCAFS LC-40</td>\n",
              "      <td>Dragon demo flight C2</td>\n",
              "      <td>525</td>\n",
              "      <td>LEO (ISS)</td>\n",
              "      <td>NASA (COTS)</td>\n",
              "      <td>Success</td>\n",
              "      <td>No attempt</td>\n",
              "    </tr>\n",
              "    <tr>\n",
              "      <th>3</th>\n",
              "      <td>2012-10-08</td>\n",
              "      <td>0:35:00</td>\n",
              "      <td>F9 v1.0  B0006</td>\n",
              "      <td>CCAFS LC-40</td>\n",
              "      <td>SpaceX CRS-1</td>\n",
              "      <td>500</td>\n",
              "      <td>LEO (ISS)</td>\n",
              "      <td>NASA (CRS)</td>\n",
              "      <td>Success</td>\n",
              "      <td>No attempt</td>\n",
              "    </tr>\n",
              "    <tr>\n",
              "      <th>4</th>\n",
              "      <td>2013-03-01</td>\n",
              "      <td>15:10:00</td>\n",
              "      <td>F9 v1.0  B0007</td>\n",
              "      <td>CCAFS LC-40</td>\n",
              "      <td>SpaceX CRS-2</td>\n",
              "      <td>677</td>\n",
              "      <td>LEO (ISS)</td>\n",
              "      <td>NASA (CRS)</td>\n",
              "      <td>Success</td>\n",
              "      <td>No attempt</td>\n",
              "    </tr>\n",
              "    <tr>\n",
              "      <th>...</th>\n",
              "      <td>...</td>\n",
              "      <td>...</td>\n",
              "      <td>...</td>\n",
              "      <td>...</td>\n",
              "      <td>...</td>\n",
              "      <td>...</td>\n",
              "      <td>...</td>\n",
              "      <td>...</td>\n",
              "      <td>...</td>\n",
              "      <td>...</td>\n",
              "    </tr>\n",
              "    <tr>\n",
              "      <th>96</th>\n",
              "      <td>2020-11-05</td>\n",
              "      <td>23:24:23</td>\n",
              "      <td>F9 B5B1062.1</td>\n",
              "      <td>CCAFS SLC-40</td>\n",
              "      <td>GPS III-04 , Crew-1</td>\n",
              "      <td>4311</td>\n",
              "      <td>MEO</td>\n",
              "      <td>USSF</td>\n",
              "      <td>Success</td>\n",
              "      <td>Success</td>\n",
              "    </tr>\n",
              "    <tr>\n",
              "      <th>97</th>\n",
              "      <td>2020-11-16</td>\n",
              "      <td>0:27:00</td>\n",
              "      <td>F9 B5B1061.1</td>\n",
              "      <td>KSC LC-39A</td>\n",
              "      <td>Crew-1, Sentinel-6 Michael Freilich</td>\n",
              "      <td>12500</td>\n",
              "      <td>LEO (ISS)</td>\n",
              "      <td>NASA (CCP)</td>\n",
              "      <td>Success</td>\n",
              "      <td>Success</td>\n",
              "    </tr>\n",
              "    <tr>\n",
              "      <th>98</th>\n",
              "      <td>2020-11-21</td>\n",
              "      <td>17:17:08</td>\n",
              "      <td>F9 B5B1063.1</td>\n",
              "      <td>VAFB SLC-4E</td>\n",
              "      <td>Sentinel-6 Michael Freilich, Starlink 15 v1.0</td>\n",
              "      <td>1192</td>\n",
              "      <td>LEO</td>\n",
              "      <td>NASA / NOAA / ESA / EUMETSAT</td>\n",
              "      <td>Success</td>\n",
              "      <td>Success</td>\n",
              "    </tr>\n",
              "    <tr>\n",
              "      <th>99</th>\n",
              "      <td>2020-11-25</td>\n",
              "      <td>2:13:00</td>\n",
              "      <td>F9 B5 B1049.7</td>\n",
              "      <td>CCAFS SLC-40</td>\n",
              "      <td>Starlink 15 v1.0, SpaceX CRS-21</td>\n",
              "      <td>15600</td>\n",
              "      <td>LEO</td>\n",
              "      <td>SpaceX</td>\n",
              "      <td>Success</td>\n",
              "      <td>Success</td>\n",
              "    </tr>\n",
              "    <tr>\n",
              "      <th>100</th>\n",
              "      <td>2020-12-06</td>\n",
              "      <td>16:17:08</td>\n",
              "      <td>F9 B5 B1058.4</td>\n",
              "      <td>KSC LC-39A</td>\n",
              "      <td>SpaceX CRS-21</td>\n",
              "      <td>2972</td>\n",
              "      <td>LEO (ISS)</td>\n",
              "      <td>NASA (CRS)</td>\n",
              "      <td>Success</td>\n",
              "      <td>Success</td>\n",
              "    </tr>\n",
              "  </tbody>\n",
              "</table>\n",
              "<p>101 rows × 10 columns</p>\n",
              "</div>\n",
              "    <div class=\"colab-df-buttons\">\n",
              "\n",
              "  <div class=\"colab-df-container\">\n",
              "    <button class=\"colab-df-convert\" onclick=\"convertToInteractive('df-6beb2abd-6526-4ea0-81bb-767f1933ac78')\"\n",
              "            title=\"Convert this dataframe to an interactive table.\"\n",
              "            style=\"display:none;\">\n",
              "\n",
              "  <svg xmlns=\"http://www.w3.org/2000/svg\" height=\"24px\" viewBox=\"0 -960 960 960\">\n",
              "    <path d=\"M120-120v-720h720v720H120Zm60-500h600v-160H180v160Zm220 220h160v-160H400v160Zm0 220h160v-160H400v160ZM180-400h160v-160H180v160Zm440 0h160v-160H620v160ZM180-180h160v-160H180v160Zm440 0h160v-160H620v160Z\"/>\n",
              "  </svg>\n",
              "    </button>\n",
              "\n",
              "  <style>\n",
              "    .colab-df-container {\n",
              "      display:flex;\n",
              "      gap: 12px;\n",
              "    }\n",
              "\n",
              "    .colab-df-convert {\n",
              "      background-color: #E8F0FE;\n",
              "      border: none;\n",
              "      border-radius: 50%;\n",
              "      cursor: pointer;\n",
              "      display: none;\n",
              "      fill: #1967D2;\n",
              "      height: 32px;\n",
              "      padding: 0 0 0 0;\n",
              "      width: 32px;\n",
              "    }\n",
              "\n",
              "    .colab-df-convert:hover {\n",
              "      background-color: #E2EBFA;\n",
              "      box-shadow: 0px 1px 2px rgba(60, 64, 67, 0.3), 0px 1px 3px 1px rgba(60, 64, 67, 0.15);\n",
              "      fill: #174EA6;\n",
              "    }\n",
              "\n",
              "    .colab-df-buttons div {\n",
              "      margin-bottom: 4px;\n",
              "    }\n",
              "\n",
              "    [theme=dark] .colab-df-convert {\n",
              "      background-color: #3B4455;\n",
              "      fill: #D2E3FC;\n",
              "    }\n",
              "\n",
              "    [theme=dark] .colab-df-convert:hover {\n",
              "      background-color: #434B5C;\n",
              "      box-shadow: 0px 1px 3px 1px rgba(0, 0, 0, 0.15);\n",
              "      filter: drop-shadow(0px 1px 2px rgba(0, 0, 0, 0.3));\n",
              "      fill: #FFFFFF;\n",
              "    }\n",
              "  </style>\n",
              "\n",
              "    <script>\n",
              "      const buttonEl =\n",
              "        document.querySelector('#df-6beb2abd-6526-4ea0-81bb-767f1933ac78 button.colab-df-convert');\n",
              "      buttonEl.style.display =\n",
              "        google.colab.kernel.accessAllowed ? 'block' : 'none';\n",
              "\n",
              "      async function convertToInteractive(key) {\n",
              "        const element = document.querySelector('#df-6beb2abd-6526-4ea0-81bb-767f1933ac78');\n",
              "        const dataTable =\n",
              "          await google.colab.kernel.invokeFunction('convertToInteractive',\n",
              "                                                    [key], {});\n",
              "        if (!dataTable) return;\n",
              "\n",
              "        const docLinkHtml = 'Like what you see? Visit the ' +\n",
              "          '<a target=\"_blank\" href=https://colab.research.google.com/notebooks/data_table.ipynb>data table notebook</a>'\n",
              "          + ' to learn more about interactive tables.';\n",
              "        element.innerHTML = '';\n",
              "        dataTable['output_type'] = 'display_data';\n",
              "        await google.colab.output.renderOutput(dataTable, element);\n",
              "        const docLink = document.createElement('div');\n",
              "        docLink.innerHTML = docLinkHtml;\n",
              "        element.appendChild(docLink);\n",
              "      }\n",
              "    </script>\n",
              "  </div>\n",
              "\n",
              "\n",
              "<div id=\"df-c155d4ed-6a7d-4c93-ba2d-d9d2225489ab\">\n",
              "  <button class=\"colab-df-quickchart\" onclick=\"quickchart('df-c155d4ed-6a7d-4c93-ba2d-d9d2225489ab')\"\n",
              "            title=\"Suggest charts\"\n",
              "            style=\"display:none;\">\n",
              "\n",
              "<svg xmlns=\"http://www.w3.org/2000/svg\" height=\"24px\"viewBox=\"0 0 24 24\"\n",
              "     width=\"24px\">\n",
              "    <g>\n",
              "        <path d=\"M19 3H5c-1.1 0-2 .9-2 2v14c0 1.1.9 2 2 2h14c1.1 0 2-.9 2-2V5c0-1.1-.9-2-2-2zM9 17H7v-7h2v7zm4 0h-2V7h2v10zm4 0h-2v-4h2v4z\"/>\n",
              "    </g>\n",
              "</svg>\n",
              "  </button>\n",
              "\n",
              "<style>\n",
              "  .colab-df-quickchart {\n",
              "      --bg-color: #E8F0FE;\n",
              "      --fill-color: #1967D2;\n",
              "      --hover-bg-color: #E2EBFA;\n",
              "      --hover-fill-color: #174EA6;\n",
              "      --disabled-fill-color: #AAA;\n",
              "      --disabled-bg-color: #DDD;\n",
              "  }\n",
              "\n",
              "  [theme=dark] .colab-df-quickchart {\n",
              "      --bg-color: #3B4455;\n",
              "      --fill-color: #D2E3FC;\n",
              "      --hover-bg-color: #434B5C;\n",
              "      --hover-fill-color: #FFFFFF;\n",
              "      --disabled-bg-color: #3B4455;\n",
              "      --disabled-fill-color: #666;\n",
              "  }\n",
              "\n",
              "  .colab-df-quickchart {\n",
              "    background-color: var(--bg-color);\n",
              "    border: none;\n",
              "    border-radius: 50%;\n",
              "    cursor: pointer;\n",
              "    display: none;\n",
              "    fill: var(--fill-color);\n",
              "    height: 32px;\n",
              "    padding: 0;\n",
              "    width: 32px;\n",
              "  }\n",
              "\n",
              "  .colab-df-quickchart:hover {\n",
              "    background-color: var(--hover-bg-color);\n",
              "    box-shadow: 0 1px 2px rgba(60, 64, 67, 0.3), 0 1px 3px 1px rgba(60, 64, 67, 0.15);\n",
              "    fill: var(--button-hover-fill-color);\n",
              "  }\n",
              "\n",
              "  .colab-df-quickchart-complete:disabled,\n",
              "  .colab-df-quickchart-complete:disabled:hover {\n",
              "    background-color: var(--disabled-bg-color);\n",
              "    fill: var(--disabled-fill-color);\n",
              "    box-shadow: none;\n",
              "  }\n",
              "\n",
              "  .colab-df-spinner {\n",
              "    border: 2px solid var(--fill-color);\n",
              "    border-color: transparent;\n",
              "    border-bottom-color: var(--fill-color);\n",
              "    animation:\n",
              "      spin 1s steps(1) infinite;\n",
              "  }\n",
              "\n",
              "  @keyframes spin {\n",
              "    0% {\n",
              "      border-color: transparent;\n",
              "      border-bottom-color: var(--fill-color);\n",
              "      border-left-color: var(--fill-color);\n",
              "    }\n",
              "    20% {\n",
              "      border-color: transparent;\n",
              "      border-left-color: var(--fill-color);\n",
              "      border-top-color: var(--fill-color);\n",
              "    }\n",
              "    30% {\n",
              "      border-color: transparent;\n",
              "      border-left-color: var(--fill-color);\n",
              "      border-top-color: var(--fill-color);\n",
              "      border-right-color: var(--fill-color);\n",
              "    }\n",
              "    40% {\n",
              "      border-color: transparent;\n",
              "      border-right-color: var(--fill-color);\n",
              "      border-top-color: var(--fill-color);\n",
              "    }\n",
              "    60% {\n",
              "      border-color: transparent;\n",
              "      border-right-color: var(--fill-color);\n",
              "    }\n",
              "    80% {\n",
              "      border-color: transparent;\n",
              "      border-right-color: var(--fill-color);\n",
              "      border-bottom-color: var(--fill-color);\n",
              "    }\n",
              "    90% {\n",
              "      border-color: transparent;\n",
              "      border-bottom-color: var(--fill-color);\n",
              "    }\n",
              "  }\n",
              "</style>\n",
              "\n",
              "  <script>\n",
              "    async function quickchart(key) {\n",
              "      const quickchartButtonEl =\n",
              "        document.querySelector('#' + key + ' button');\n",
              "      quickchartButtonEl.disabled = true;  // To prevent multiple clicks.\n",
              "      quickchartButtonEl.classList.add('colab-df-spinner');\n",
              "      try {\n",
              "        const charts = await google.colab.kernel.invokeFunction(\n",
              "            'suggestCharts', [key], {});\n",
              "      } catch (error) {\n",
              "        console.error('Error during call to suggestCharts:', error);\n",
              "      }\n",
              "      quickchartButtonEl.classList.remove('colab-df-spinner');\n",
              "      quickchartButtonEl.classList.add('colab-df-quickchart-complete');\n",
              "    }\n",
              "    (() => {\n",
              "      let quickchartButtonEl =\n",
              "        document.querySelector('#df-c155d4ed-6a7d-4c93-ba2d-d9d2225489ab button');\n",
              "      quickchartButtonEl.style.display =\n",
              "        google.colab.kernel.accessAllowed ? 'block' : 'none';\n",
              "    })();\n",
              "  </script>\n",
              "</div>\n",
              "\n",
              "  <div id=\"id_554598c4-2552-42fc-8251-5cb63dee4d38\">\n",
              "    <style>\n",
              "      .colab-df-generate {\n",
              "        background-color: #E8F0FE;\n",
              "        border: none;\n",
              "        border-radius: 50%;\n",
              "        cursor: pointer;\n",
              "        display: none;\n",
              "        fill: #1967D2;\n",
              "        height: 32px;\n",
              "        padding: 0 0 0 0;\n",
              "        width: 32px;\n",
              "      }\n",
              "\n",
              "      .colab-df-generate:hover {\n",
              "        background-color: #E2EBFA;\n",
              "        box-shadow: 0px 1px 2px rgba(60, 64, 67, 0.3), 0px 1px 3px 1px rgba(60, 64, 67, 0.15);\n",
              "        fill: #174EA6;\n",
              "      }\n",
              "\n",
              "      [theme=dark] .colab-df-generate {\n",
              "        background-color: #3B4455;\n",
              "        fill: #D2E3FC;\n",
              "      }\n",
              "\n",
              "      [theme=dark] .colab-df-generate:hover {\n",
              "        background-color: #434B5C;\n",
              "        box-shadow: 0px 1px 3px 1px rgba(0, 0, 0, 0.15);\n",
              "        filter: drop-shadow(0px 1px 2px rgba(0, 0, 0, 0.3));\n",
              "        fill: #FFFFFF;\n",
              "      }\n",
              "    </style>\n",
              "    <button class=\"colab-df-generate\" onclick=\"generateWithVariable('df')\"\n",
              "            title=\"Generate code using this dataframe.\"\n",
              "            style=\"display:none;\">\n",
              "\n",
              "  <svg xmlns=\"http://www.w3.org/2000/svg\" height=\"24px\"viewBox=\"0 0 24 24\"\n",
              "       width=\"24px\">\n",
              "    <path d=\"M7,19H8.4L18.45,9,17,7.55,7,17.6ZM5,21V16.75L18.45,3.32a2,2,0,0,1,2.83,0l1.4,1.43a1.91,1.91,0,0,1,.58,1.4,1.91,1.91,0,0,1-.58,1.4L9.25,21ZM18.45,9,17,7.55Zm-12,3A5.31,5.31,0,0,0,4.9,8.1,5.31,5.31,0,0,0,1,6.5,5.31,5.31,0,0,0,4.9,4.9,5.31,5.31,0,0,0,6.5,1,5.31,5.31,0,0,0,8.1,4.9,5.31,5.31,0,0,0,12,6.5,5.46,5.46,0,0,0,6.5,12Z\"/>\n",
              "  </svg>\n",
              "    </button>\n",
              "    <script>\n",
              "      (() => {\n",
              "      const buttonEl =\n",
              "        document.querySelector('#id_554598c4-2552-42fc-8251-5cb63dee4d38 button.colab-df-generate');\n",
              "      buttonEl.style.display =\n",
              "        google.colab.kernel.accessAllowed ? 'block' : 'none';\n",
              "\n",
              "      buttonEl.onclick = () => {\n",
              "        google.colab.notebook.generateWithVariable('df');\n",
              "      }\n",
              "      })();\n",
              "    </script>\n",
              "  </div>\n",
              "\n",
              "    </div>\n",
              "  </div>\n"
            ],
            "application/vnd.google.colaboratory.intrinsic+json": {
              "type": "dataframe",
              "variable_name": "df",
              "summary": "{\n  \"name\": \"df\",\n  \"rows\": 101,\n  \"fields\": [\n    {\n      \"column\": \"Date\",\n      \"properties\": {\n        \"dtype\": \"object\",\n        \"num_unique_values\": 101,\n        \"samples\": [\n          \"2020-05-30\",\n          \"2018-06-04\",\n          \"2019-01-11\"\n        ],\n        \"semantic_type\": \"\",\n        \"description\": \"\"\n      }\n    },\n    {\n      \"column\": \"Time (UTC)\",\n      \"properties\": {\n        \"dtype\": \"object\",\n        \"num_unique_values\": 97,\n        \"samples\": [\n          \"13:51:00\",\n          \"12:37:00\",\n          \"0:27:00\"\n        ],\n        \"semantic_type\": \"\",\n        \"description\": \"\"\n      }\n    },\n    {\n      \"column\": \"Booster_Version\",\n      \"properties\": {\n        \"dtype\": \"string\",\n        \"num_unique_values\": 97,\n        \"samples\": [\n          \"F9 B5 B1049.2\",\n          \"F9 FT  B1035.2\",\n          \"F9 B5B1061.1 \"\n        ],\n        \"semantic_type\": \"\",\n        \"description\": \"\"\n      }\n    },\n    {\n      \"column\": \"Launch_Site\",\n      \"properties\": {\n        \"dtype\": \"category\",\n        \"num_unique_values\": 4,\n        \"samples\": [\n          \"VAFB SLC-4E\",\n          \"CCAFS SLC-40\",\n          \"CCAFS LC-40\"\n        ],\n        \"semantic_type\": \"\",\n        \"description\": \"\"\n      }\n    },\n    {\n      \"column\": \"Payload\",\n      \"properties\": {\n        \"dtype\": \"string\",\n        \"num_unique_values\": 101,\n        \"samples\": [\n          \"Crew Dragon Demo-2, Starlink 7 v1.0 \",\n          \"SES-12\",\n          \"Iridium NEXT-8\"\n        ],\n        \"semantic_type\": \"\",\n        \"description\": \"\"\n      }\n    },\n    {\n      \"column\": \"PAYLOAD_MASS__KG_\",\n      \"properties\": {\n        \"dtype\": \"number\",\n        \"std\": 4900,\n        \"min\": 0,\n        \"max\": 15600,\n        \"num_unique_values\": 78,\n        \"samples\": [\n          6761,\n          0,\n          3310\n        ],\n        \"semantic_type\": \"\",\n        \"description\": \"\"\n      }\n    },\n    {\n      \"column\": \"Orbit\",\n      \"properties\": {\n        \"dtype\": \"category\",\n        \"num_unique_values\": 8,\n        \"samples\": [\n          \"LEO (ISS)\",\n          \"SSO\",\n          \"LEO\"\n        ],\n        \"semantic_type\": \"\",\n        \"description\": \"\"\n      }\n    },\n    {\n      \"column\": \"Customer\",\n      \"properties\": {\n        \"dtype\": \"string\",\n        \"num_unique_values\": 53,\n        \"samples\": [\n          \"Intelsat\",\n          \"Sky Perfect JSAT, Kacific 1\",\n          \"SpaceX, Spaceflight Industries (BlackSky), Planet Labs\"\n        ],\n        \"semantic_type\": \"\",\n        \"description\": \"\"\n      }\n    },\n    {\n      \"column\": \"Mission_Outcome\",\n      \"properties\": {\n        \"dtype\": \"category\",\n        \"num_unique_values\": 4,\n        \"samples\": [\n          \"Failure (in flight)\",\n          \"Success \",\n          \"Success\"\n        ],\n        \"semantic_type\": \"\",\n        \"description\": \"\"\n      }\n    },\n    {\n      \"column\": \"Landing_Outcome\",\n      \"properties\": {\n        \"dtype\": \"category\",\n        \"num_unique_values\": 11,\n        \"samples\": [\n          \"Precluded (drone ship)\",\n          \"Failure (parachute)\",\n          \"Failure\"\n        ],\n        \"semantic_type\": \"\",\n        \"description\": \"\"\n      }\n    }\n  ]\n}"
            }
          },
          "metadata": {},
          "execution_count": 10
        }
      ]
    },
    {
      "cell_type": "code",
      "execution_count": null,
      "metadata": {
        "id": "JZlSJ62EdLjU",
        "outputId": "8a42a4f4-e4d4-42b7-e574-44aadef80ada",
        "colab": {
          "base_uri": "https://localhost:8080/"
        }
      },
      "outputs": [
        {
          "output_type": "stream",
          "name": "stdout",
          "text": [
            " * sqlite:///data1.sql\n",
            "Done.\n"
          ]
        },
        {
          "output_type": "execute_result",
          "data": {
            "text/plain": [
              "[]"
            ]
          },
          "metadata": {},
          "execution_count": 9
        }
      ],
      "source": [
        "%sql create table SPACEXTABLE as select * from SPACEXTBL where Date is not null"
      ]
    },
    {
      "cell_type": "markdown",
      "source": [
        "Display the names of the unique launch sites in the space mission"
      ],
      "metadata": {
        "id": "kNfZ-9SferGz"
      }
    },
    {
      "cell_type": "code",
      "source": [
        "%%sql\n",
        "\n",
        "SELECT\n",
        "  DISTINCT(Launch_Site)\n",
        "FROM\n",
        "  SPACEXTABLE;"
      ],
      "metadata": {
        "id": "y-JSwp6Ldkco",
        "outputId": "85436010-0b81-40c0-e43c-9c14670aff7a",
        "colab": {
          "base_uri": "https://localhost:8080/",
          "height": 161
        }
      },
      "execution_count": null,
      "outputs": [
        {
          "output_type": "stream",
          "name": "stdout",
          "text": [
            " * sqlite:///data1.sql\n",
            "Done.\n"
          ]
        },
        {
          "output_type": "execute_result",
          "data": {
            "text/plain": [
              "[('CCAFS LC-40',), ('VAFB SLC-4E',), ('KSC LC-39A',), ('CCAFS SLC-40',)]"
            ],
            "text/html": [
              "<table>\n",
              "    <thead>\n",
              "        <tr>\n",
              "            <th>Launch_Site</th>\n",
              "        </tr>\n",
              "    </thead>\n",
              "    <tbody>\n",
              "        <tr>\n",
              "            <td>CCAFS LC-40</td>\n",
              "        </tr>\n",
              "        <tr>\n",
              "            <td>VAFB SLC-4E</td>\n",
              "        </tr>\n",
              "        <tr>\n",
              "            <td>KSC LC-39A</td>\n",
              "        </tr>\n",
              "        <tr>\n",
              "            <td>CCAFS SLC-40</td>\n",
              "        </tr>\n",
              "    </tbody>\n",
              "</table>"
            ]
          },
          "metadata": {},
          "execution_count": 11
        }
      ]
    },
    {
      "cell_type": "markdown",
      "source": [
        "Display 5 records where launch sites begin with the string 'CCA'"
      ],
      "metadata": {
        "id": "pKoP4rFYelRt"
      }
    },
    {
      "cell_type": "code",
      "source": [
        "%%sql\n",
        "\n",
        "SELECT\n",
        "  *\n",
        "FROM\n",
        "  SPACEXTABLE\n",
        "WHERE\n",
        "  Launch_Site LIKE 'CCA%' LIMIT 5;"
      ],
      "metadata": {
        "id": "aMwRsbAAd2q-",
        "outputId": "f8521a34-1084-405f-ae03-e5c550670285",
        "colab": {
          "base_uri": "https://localhost:8080/",
          "height": 286
        }
      },
      "execution_count": null,
      "outputs": [
        {
          "output_type": "stream",
          "name": "stdout",
          "text": [
            " * sqlite:///data1.sql\n",
            "Done.\n"
          ]
        },
        {
          "output_type": "execute_result",
          "data": {
            "text/plain": [
              "[('2010-06-04', '18:45:00', 'F9 v1.0  B0003', 'CCAFS LC-40', 'Dragon Spacecraft Qualification Unit', 0, 'LEO', 'SpaceX', 'Success', 'Failure (parachute)'),\n",
              " ('2010-12-08', '15:43:00', 'F9 v1.0  B0004', 'CCAFS LC-40', 'Dragon demo flight C1, two CubeSats, barrel of Brouere cheese', 0, 'LEO (ISS)', 'NASA (COTS) NRO', 'Success', 'Failure (parachute)'),\n",
              " ('2012-05-22', '7:44:00', 'F9 v1.0  B0005', 'CCAFS LC-40', 'Dragon demo flight C2', 525, 'LEO (ISS)', 'NASA (COTS)', 'Success', 'No attempt'),\n",
              " ('2012-10-08', '0:35:00', 'F9 v1.0  B0006', 'CCAFS LC-40', 'SpaceX CRS-1', 500, 'LEO (ISS)', 'NASA (CRS)', 'Success', 'No attempt'),\n",
              " ('2013-03-01', '15:10:00', 'F9 v1.0  B0007', 'CCAFS LC-40', 'SpaceX CRS-2', 677, 'LEO (ISS)', 'NASA (CRS)', 'Success', 'No attempt')]"
            ],
            "text/html": [
              "<table>\n",
              "    <thead>\n",
              "        <tr>\n",
              "            <th>Date</th>\n",
              "            <th>Time (UTC)</th>\n",
              "            <th>Booster_Version</th>\n",
              "            <th>Launch_Site</th>\n",
              "            <th>Payload</th>\n",
              "            <th>PAYLOAD_MASS__KG_</th>\n",
              "            <th>Orbit</th>\n",
              "            <th>Customer</th>\n",
              "            <th>Mission_Outcome</th>\n",
              "            <th>Landing_Outcome</th>\n",
              "        </tr>\n",
              "    </thead>\n",
              "    <tbody>\n",
              "        <tr>\n",
              "            <td>2010-06-04</td>\n",
              "            <td>18:45:00</td>\n",
              "            <td>F9 v1.0  B0003</td>\n",
              "            <td>CCAFS LC-40</td>\n",
              "            <td>Dragon Spacecraft Qualification Unit</td>\n",
              "            <td>0</td>\n",
              "            <td>LEO</td>\n",
              "            <td>SpaceX</td>\n",
              "            <td>Success</td>\n",
              "            <td>Failure (parachute)</td>\n",
              "        </tr>\n",
              "        <tr>\n",
              "            <td>2010-12-08</td>\n",
              "            <td>15:43:00</td>\n",
              "            <td>F9 v1.0  B0004</td>\n",
              "            <td>CCAFS LC-40</td>\n",
              "            <td>Dragon demo flight C1, two CubeSats, barrel of Brouere cheese</td>\n",
              "            <td>0</td>\n",
              "            <td>LEO (ISS)</td>\n",
              "            <td>NASA (COTS) NRO</td>\n",
              "            <td>Success</td>\n",
              "            <td>Failure (parachute)</td>\n",
              "        </tr>\n",
              "        <tr>\n",
              "            <td>2012-05-22</td>\n",
              "            <td>7:44:00</td>\n",
              "            <td>F9 v1.0  B0005</td>\n",
              "            <td>CCAFS LC-40</td>\n",
              "            <td>Dragon demo flight C2</td>\n",
              "            <td>525</td>\n",
              "            <td>LEO (ISS)</td>\n",
              "            <td>NASA (COTS)</td>\n",
              "            <td>Success</td>\n",
              "            <td>No attempt</td>\n",
              "        </tr>\n",
              "        <tr>\n",
              "            <td>2012-10-08</td>\n",
              "            <td>0:35:00</td>\n",
              "            <td>F9 v1.0  B0006</td>\n",
              "            <td>CCAFS LC-40</td>\n",
              "            <td>SpaceX CRS-1</td>\n",
              "            <td>500</td>\n",
              "            <td>LEO (ISS)</td>\n",
              "            <td>NASA (CRS)</td>\n",
              "            <td>Success</td>\n",
              "            <td>No attempt</td>\n",
              "        </tr>\n",
              "        <tr>\n",
              "            <td>2013-03-01</td>\n",
              "            <td>15:10:00</td>\n",
              "            <td>F9 v1.0  B0007</td>\n",
              "            <td>CCAFS LC-40</td>\n",
              "            <td>SpaceX CRS-2</td>\n",
              "            <td>677</td>\n",
              "            <td>LEO (ISS)</td>\n",
              "            <td>NASA (CRS)</td>\n",
              "            <td>Success</td>\n",
              "            <td>No attempt</td>\n",
              "        </tr>\n",
              "    </tbody>\n",
              "</table>"
            ]
          },
          "metadata": {},
          "execution_count": 16
        }
      ]
    },
    {
      "cell_type": "markdown",
      "source": [
        "Display the total payload mass carried by boosters launched by NASA (CRS)"
      ],
      "metadata": {
        "id": "RNP__jYWf9DN"
      }
    },
    {
      "cell_type": "code",
      "source": [
        "%%sql\n",
        "\n",
        "SELECT\n",
        "  SUM(PAYLOAD_MASS__KG_) AS 'Total payload mass launched by NASA (CRS)'\n",
        "FROM\n",
        "  SPACEXTABLE\n",
        "WHERE\n",
        "  Customer = 'NASA (CRS)'"
      ],
      "metadata": {
        "id": "NQyXSvTMfCcW",
        "outputId": "81511f8c-92fc-4046-b35d-edcc58f35cd1",
        "colab": {
          "base_uri": "https://localhost:8080/",
          "height": 96
        }
      },
      "execution_count": null,
      "outputs": [
        {
          "output_type": "stream",
          "name": "stdout",
          "text": [
            " * sqlite:///data1.sql\n",
            "Done.\n"
          ]
        },
        {
          "output_type": "execute_result",
          "data": {
            "text/plain": [
              "[(45596,)]"
            ],
            "text/html": [
              "<table>\n",
              "    <thead>\n",
              "        <tr>\n",
              "            <th>Total payload mass launched by NASA (CRS)</th>\n",
              "        </tr>\n",
              "    </thead>\n",
              "    <tbody>\n",
              "        <tr>\n",
              "            <td>45596</td>\n",
              "        </tr>\n",
              "    </tbody>\n",
              "</table>"
            ]
          },
          "metadata": {},
          "execution_count": 18
        }
      ]
    },
    {
      "cell_type": "markdown",
      "source": [
        "Display average payload mass carried by booster version F9 v1.1"
      ],
      "metadata": {
        "id": "hUXSAuiFgpIl"
      }
    },
    {
      "cell_type": "code",
      "source": [
        "%%sql\n",
        "\n",
        "SELECT\n",
        "  AVG(PAYLOAD_MASS__KG_) AS 'Avg payload mass carried by F9 v1.1 boosters'\n",
        "FROM\n",
        "  SPACEXTABLE\n",
        "WHERE\n",
        "  Booster_Version LIKE 'F9 v1.1%'"
      ],
      "metadata": {
        "id": "BwYMGnm2gQ94",
        "outputId": "e9f854f5-bd44-4d3d-da9c-441e20c3ca84",
        "colab": {
          "base_uri": "https://localhost:8080/",
          "height": 96
        }
      },
      "execution_count": null,
      "outputs": [
        {
          "output_type": "stream",
          "name": "stdout",
          "text": [
            " * sqlite:///data1.sql\n",
            "Done.\n"
          ]
        },
        {
          "output_type": "execute_result",
          "data": {
            "text/plain": [
              "[(2534.6666666666665,)]"
            ],
            "text/html": [
              "<table>\n",
              "    <thead>\n",
              "        <tr>\n",
              "            <th>Avg payload mass carried by F9 v1.1 boosters</th>\n",
              "        </tr>\n",
              "    </thead>\n",
              "    <tbody>\n",
              "        <tr>\n",
              "            <td>2534.6666666666665</td>\n",
              "        </tr>\n",
              "    </tbody>\n",
              "</table>"
            ]
          },
          "metadata": {},
          "execution_count": 19
        }
      ]
    },
    {
      "cell_type": "markdown",
      "source": [
        "List the date when the first succesful landing outcome in ground pad was acheived"
      ],
      "metadata": {
        "id": "1BvEwe9ohN7e"
      }
    },
    {
      "cell_type": "code",
      "source": [
        "%%sql\n",
        "\n",
        "SELECT DISTINCT(Landing_Outcome) FROM SPACEXTABLE;"
      ],
      "metadata": {
        "id": "LIbtzIIVhszc",
        "outputId": "6d4546e3-05fd-4b7e-893e-958683c6e38b",
        "colab": {
          "base_uri": "https://localhost:8080/",
          "height": 310
        }
      },
      "execution_count": null,
      "outputs": [
        {
          "output_type": "stream",
          "name": "stdout",
          "text": [
            " * sqlite:///data1.sql\n",
            "Done.\n"
          ]
        },
        {
          "output_type": "execute_result",
          "data": {
            "text/plain": [
              "[('Failure (parachute)',),\n",
              " ('No attempt',),\n",
              " ('Uncontrolled (ocean)',),\n",
              " ('Controlled (ocean)',),\n",
              " ('Failure (drone ship)',),\n",
              " ('Precluded (drone ship)',),\n",
              " ('Success (ground pad)',),\n",
              " ('Success (drone ship)',),\n",
              " ('Success',),\n",
              " ('Failure',),\n",
              " ('No attempt ',)]"
            ],
            "text/html": [
              "<table>\n",
              "    <thead>\n",
              "        <tr>\n",
              "            <th>Landing_Outcome</th>\n",
              "        </tr>\n",
              "    </thead>\n",
              "    <tbody>\n",
              "        <tr>\n",
              "            <td>Failure (parachute)</td>\n",
              "        </tr>\n",
              "        <tr>\n",
              "            <td>No attempt</td>\n",
              "        </tr>\n",
              "        <tr>\n",
              "            <td>Uncontrolled (ocean)</td>\n",
              "        </tr>\n",
              "        <tr>\n",
              "            <td>Controlled (ocean)</td>\n",
              "        </tr>\n",
              "        <tr>\n",
              "            <td>Failure (drone ship)</td>\n",
              "        </tr>\n",
              "        <tr>\n",
              "            <td>Precluded (drone ship)</td>\n",
              "        </tr>\n",
              "        <tr>\n",
              "            <td>Success (ground pad)</td>\n",
              "        </tr>\n",
              "        <tr>\n",
              "            <td>Success (drone ship)</td>\n",
              "        </tr>\n",
              "        <tr>\n",
              "            <td>Success</td>\n",
              "        </tr>\n",
              "        <tr>\n",
              "            <td>Failure</td>\n",
              "        </tr>\n",
              "        <tr>\n",
              "            <td>No attempt </td>\n",
              "        </tr>\n",
              "    </tbody>\n",
              "</table>"
            ]
          },
          "metadata": {},
          "execution_count": 20
        }
      ]
    },
    {
      "cell_type": "code",
      "source": [
        "%%sql\n",
        "\n",
        "SELECT\n",
        "  MIN(Date) AS 'Date of First Success'\n",
        "FROM\n",
        "  SPACEXTABLE\n",
        "WHERE\n",
        "  Landing_Outcome = 'Success (ground pad)';"
      ],
      "metadata": {
        "id": "kcVErtnehGKt",
        "outputId": "ff236619-a104-4d62-dc94-ac8ed667530b",
        "colab": {
          "base_uri": "https://localhost:8080/",
          "height": 96
        }
      },
      "execution_count": null,
      "outputs": [
        {
          "output_type": "stream",
          "name": "stdout",
          "text": [
            " * sqlite:///data1.sql\n",
            "Done.\n"
          ]
        },
        {
          "output_type": "execute_result",
          "data": {
            "text/plain": [
              "[('2015-12-22',)]"
            ],
            "text/html": [
              "<table>\n",
              "    <thead>\n",
              "        <tr>\n",
              "            <th>Date of First Success</th>\n",
              "        </tr>\n",
              "    </thead>\n",
              "    <tbody>\n",
              "        <tr>\n",
              "            <td>2015-12-22</td>\n",
              "        </tr>\n",
              "    </tbody>\n",
              "</table>"
            ]
          },
          "metadata": {},
          "execution_count": 26
        }
      ]
    },
    {
      "cell_type": "markdown",
      "source": [
        "List the names of the boosters which have success in drone ship and have payload mass greater than 4000 but less than 6000"
      ],
      "metadata": {
        "id": "qlt-aaOFiyQf"
      }
    },
    {
      "cell_type": "code",
      "source": [
        "%%sql\n",
        "\n",
        "SELECT\n",
        "  DISTINCT(Booster_Version) AS 'Booster version'\n",
        "FROM\n",
        "  SPACEXTABLE\n",
        "WHERE\n",
        "  Landing_Outcome = 'Success (drone ship)' AND PAYLOAD_MASS__KG_ BETWEEN 4000 AND 6000;"
      ],
      "metadata": {
        "id": "Xw1WJpkuiEAD",
        "outputId": "3bca07ee-9eda-4692-aa09-daae1c8e943b",
        "colab": {
          "base_uri": "https://localhost:8080/",
          "height": 161
        }
      },
      "execution_count": null,
      "outputs": [
        {
          "output_type": "stream",
          "name": "stdout",
          "text": [
            " * sqlite:///data1.sql\n",
            "Done.\n"
          ]
        },
        {
          "output_type": "execute_result",
          "data": {
            "text/plain": [
              "[('F9 FT B1022',), ('F9 FT B1026',), ('F9 FT  B1021.2',), ('F9 FT  B1031.2',)]"
            ],
            "text/html": [
              "<table>\n",
              "    <thead>\n",
              "        <tr>\n",
              "            <th>Booster version</th>\n",
              "        </tr>\n",
              "    </thead>\n",
              "    <tbody>\n",
              "        <tr>\n",
              "            <td>F9 FT B1022</td>\n",
              "        </tr>\n",
              "        <tr>\n",
              "            <td>F9 FT B1026</td>\n",
              "        </tr>\n",
              "        <tr>\n",
              "            <td>F9 FT  B1021.2</td>\n",
              "        </tr>\n",
              "        <tr>\n",
              "            <td>F9 FT  B1031.2</td>\n",
              "        </tr>\n",
              "    </tbody>\n",
              "</table>"
            ]
          },
          "metadata": {},
          "execution_count": 28
        }
      ]
    },
    {
      "cell_type": "markdown",
      "source": [
        "List the total number of successful and failure mission outcomes"
      ],
      "metadata": {
        "id": "r7452mc-ldtg"
      }
    },
    {
      "cell_type": "code",
      "source": [
        "%%sql\n",
        "\n",
        "SELECT\n",
        "  Landing_Outcome,\n",
        "  COUNT(*) AS 'MISSIONS'\n",
        "FROM\n",
        "  SPACEXTABLE\n",
        "GROUP BY\n",
        "  Landing_Outcome;"
      ],
      "metadata": {
        "id": "qECS3o0glMN4",
        "outputId": "4d925da1-4cd6-4909-e65e-098a417c0a4b",
        "colab": {
          "base_uri": "https://localhost:8080/",
          "height": 310
        }
      },
      "execution_count": null,
      "outputs": [
        {
          "output_type": "stream",
          "name": "stdout",
          "text": [
            " * sqlite:///data1.sql\n",
            "Done.\n"
          ]
        },
        {
          "output_type": "execute_result",
          "data": {
            "text/plain": [
              "[('Controlled (ocean)', 5),\n",
              " ('Failure', 3),\n",
              " ('Failure (drone ship)', 5),\n",
              " ('Failure (parachute)', 2),\n",
              " ('No attempt', 21),\n",
              " ('No attempt ', 1),\n",
              " ('Precluded (drone ship)', 1),\n",
              " ('Success', 38),\n",
              " ('Success (drone ship)', 14),\n",
              " ('Success (ground pad)', 9),\n",
              " ('Uncontrolled (ocean)', 2)]"
            ],
            "text/html": [
              "<table>\n",
              "    <thead>\n",
              "        <tr>\n",
              "            <th>Landing_Outcome</th>\n",
              "            <th>MISSIONS</th>\n",
              "        </tr>\n",
              "    </thead>\n",
              "    <tbody>\n",
              "        <tr>\n",
              "            <td>Controlled (ocean)</td>\n",
              "            <td>5</td>\n",
              "        </tr>\n",
              "        <tr>\n",
              "            <td>Failure</td>\n",
              "            <td>3</td>\n",
              "        </tr>\n",
              "        <tr>\n",
              "            <td>Failure (drone ship)</td>\n",
              "            <td>5</td>\n",
              "        </tr>\n",
              "        <tr>\n",
              "            <td>Failure (parachute)</td>\n",
              "            <td>2</td>\n",
              "        </tr>\n",
              "        <tr>\n",
              "            <td>No attempt</td>\n",
              "            <td>21</td>\n",
              "        </tr>\n",
              "        <tr>\n",
              "            <td>No attempt </td>\n",
              "            <td>1</td>\n",
              "        </tr>\n",
              "        <tr>\n",
              "            <td>Precluded (drone ship)</td>\n",
              "            <td>1</td>\n",
              "        </tr>\n",
              "        <tr>\n",
              "            <td>Success</td>\n",
              "            <td>38</td>\n",
              "        </tr>\n",
              "        <tr>\n",
              "            <td>Success (drone ship)</td>\n",
              "            <td>14</td>\n",
              "        </tr>\n",
              "        <tr>\n",
              "            <td>Success (ground pad)</td>\n",
              "            <td>9</td>\n",
              "        </tr>\n",
              "        <tr>\n",
              "            <td>Uncontrolled (ocean)</td>\n",
              "            <td>2</td>\n",
              "        </tr>\n",
              "    </tbody>\n",
              "</table>"
            ]
          },
          "metadata": {},
          "execution_count": 31
        }
      ]
    },
    {
      "cell_type": "markdown",
      "source": [
        "List the names of the booster_versions which have carried the maximum payload mass."
      ],
      "metadata": {
        "id": "KBs_BysBmZWH"
      }
    },
    {
      "cell_type": "code",
      "source": [
        "%sql SELECT MAX(PAYLOAD_MASS__KG_) FROM SPACEXTABLE"
      ],
      "metadata": {
        "id": "zXT7PQoFnk3H",
        "outputId": "56c0678b-5e50-45cc-99d0-2810116f4c99",
        "colab": {
          "base_uri": "https://localhost:8080/",
          "height": 96
        }
      },
      "execution_count": null,
      "outputs": [
        {
          "output_type": "stream",
          "name": "stdout",
          "text": [
            " * sqlite:///data1.sql\n",
            "Done.\n"
          ]
        },
        {
          "output_type": "execute_result",
          "data": {
            "text/plain": [
              "[(15600,)]"
            ],
            "text/html": [
              "<table>\n",
              "    <thead>\n",
              "        <tr>\n",
              "            <th>MAX(PAYLOAD_MASS__KG_)</th>\n",
              "        </tr>\n",
              "    </thead>\n",
              "    <tbody>\n",
              "        <tr>\n",
              "            <td>15600</td>\n",
              "        </tr>\n",
              "    </tbody>\n",
              "</table>"
            ]
          },
          "metadata": {},
          "execution_count": 35
        }
      ]
    },
    {
      "cell_type": "code",
      "source": [
        "%%sql\n",
        "\n",
        "SELECT\n",
        "  Booster_Version\n",
        "FROM\n",
        "  SPACEXTABLE\n",
        "WHERE\n",
        "  PAYLOAD_MASS__KG_ = (SELECT MAX(PAYLOAD_MASS__KG_) FROM SPACEXTABLE)"
      ],
      "metadata": {
        "id": "6cuzvj53l1Ab",
        "outputId": "2fa0107b-fb6d-4cf3-dc0e-e9f85a20f12b",
        "colab": {
          "base_uri": "https://localhost:8080/",
          "height": 331
        }
      },
      "execution_count": null,
      "outputs": [
        {
          "output_type": "stream",
          "name": "stdout",
          "text": [
            " * sqlite:///data1.sql\n",
            "Done.\n"
          ]
        },
        {
          "output_type": "execute_result",
          "data": {
            "text/plain": [
              "[('F9 B5 B1048.4',),\n",
              " ('F9 B5 B1049.4',),\n",
              " ('F9 B5 B1051.3',),\n",
              " ('F9 B5 B1056.4',),\n",
              " ('F9 B5 B1048.5',),\n",
              " ('F9 B5 B1051.4',),\n",
              " ('F9 B5 B1049.5',),\n",
              " ('F9 B5 B1060.2 ',),\n",
              " ('F9 B5 B1058.3 ',),\n",
              " ('F9 B5 B1051.6',),\n",
              " ('F9 B5 B1060.3',),\n",
              " ('F9 B5 B1049.7 ',)]"
            ],
            "text/html": [
              "<table>\n",
              "    <thead>\n",
              "        <tr>\n",
              "            <th>Booster_Version</th>\n",
              "        </tr>\n",
              "    </thead>\n",
              "    <tbody>\n",
              "        <tr>\n",
              "            <td>F9 B5 B1048.4</td>\n",
              "        </tr>\n",
              "        <tr>\n",
              "            <td>F9 B5 B1049.4</td>\n",
              "        </tr>\n",
              "        <tr>\n",
              "            <td>F9 B5 B1051.3</td>\n",
              "        </tr>\n",
              "        <tr>\n",
              "            <td>F9 B5 B1056.4</td>\n",
              "        </tr>\n",
              "        <tr>\n",
              "            <td>F9 B5 B1048.5</td>\n",
              "        </tr>\n",
              "        <tr>\n",
              "            <td>F9 B5 B1051.4</td>\n",
              "        </tr>\n",
              "        <tr>\n",
              "            <td>F9 B5 B1049.5</td>\n",
              "        </tr>\n",
              "        <tr>\n",
              "            <td>F9 B5 B1060.2 </td>\n",
              "        </tr>\n",
              "        <tr>\n",
              "            <td>F9 B5 B1058.3 </td>\n",
              "        </tr>\n",
              "        <tr>\n",
              "            <td>F9 B5 B1051.6</td>\n",
              "        </tr>\n",
              "        <tr>\n",
              "            <td>F9 B5 B1060.3</td>\n",
              "        </tr>\n",
              "        <tr>\n",
              "            <td>F9 B5 B1049.7 </td>\n",
              "        </tr>\n",
              "    </tbody>\n",
              "</table>"
            ]
          },
          "metadata": {},
          "execution_count": 33
        }
      ]
    },
    {
      "cell_type": "markdown",
      "source": [
        "List the records which will display the month names, failure landing_outcomes in drone ship, booster versions, launch_site for the months in year 2015."
      ],
      "metadata": {
        "id": "n7gevpoxn7Kw"
      }
    },
    {
      "cell_type": "code",
      "source": [
        "%%sql\n",
        "\n",
        "SELECT\n",
        "  substr(Date, 6,2) AS Month,\n",
        "  Booster_Version,\n",
        "  Launch_Site\n",
        "FROM\n",
        "  SPACEXTABLE\n",
        "WHERE\n",
        " Landing_Outcome = 'Failure (drone ship)' AND substr(Date,0,5)='2015'"
      ],
      "metadata": {
        "id": "tWiWxukYms9_",
        "outputId": "365f365c-57d2-41ec-bf3f-87c92c1cc335",
        "colab": {
          "base_uri": "https://localhost:8080/",
          "height": 118
        }
      },
      "execution_count": null,
      "outputs": [
        {
          "output_type": "stream",
          "name": "stdout",
          "text": [
            " * sqlite:///data1.sql\n",
            "Done.\n"
          ]
        },
        {
          "output_type": "execute_result",
          "data": {
            "text/plain": [
              "[('01', 'F9 v1.1 B1012', 'CCAFS LC-40'),\n",
              " ('04', 'F9 v1.1 B1015', 'CCAFS LC-40')]"
            ],
            "text/html": [
              "<table>\n",
              "    <thead>\n",
              "        <tr>\n",
              "            <th>Month</th>\n",
              "            <th>Booster_Version</th>\n",
              "            <th>Launch_Site</th>\n",
              "        </tr>\n",
              "    </thead>\n",
              "    <tbody>\n",
              "        <tr>\n",
              "            <td>01</td>\n",
              "            <td>F9 v1.1 B1012</td>\n",
              "            <td>CCAFS LC-40</td>\n",
              "        </tr>\n",
              "        <tr>\n",
              "            <td>04</td>\n",
              "            <td>F9 v1.1 B1015</td>\n",
              "            <td>CCAFS LC-40</td>\n",
              "        </tr>\n",
              "    </tbody>\n",
              "</table>"
            ]
          },
          "metadata": {},
          "execution_count": 62
        }
      ]
    },
    {
      "cell_type": "markdown",
      "source": [
        "Rank the count of landing outcomes (such as Failure (drone ship) or Success (ground pad)) between the date 2010-06-04 and 2017-03-20, in descending order."
      ],
      "metadata": {
        "id": "WMOPbpFzvwn4"
      }
    },
    {
      "cell_type": "code",
      "source": [
        "%%sql\n",
        "\n",
        "SELECT\n",
        "  Landing_Outcome,\n",
        "  COUNT(Landing_Outcome) AS 'Count'\n",
        "FROM\n",
        "  SPACEXTABLE\n",
        "WHERE\n",
        "  Date BETWEEN '2010-06-04' AND '2017-03-20'\n",
        "GROUP BY\n",
        "  Landing_Outcome\n",
        "ORDER BY\n",
        "  Count DESC;"
      ],
      "metadata": {
        "id": "kzv4aXIzo719",
        "outputId": "c26e8320-967c-4026-a5e7-0c0bf1db33c5",
        "colab": {
          "base_uri": "https://localhost:8080/",
          "height": 246
        }
      },
      "execution_count": null,
      "outputs": [
        {
          "output_type": "stream",
          "name": "stdout",
          "text": [
            " * sqlite:///data1.sql\n",
            "Done.\n"
          ]
        },
        {
          "output_type": "execute_result",
          "data": {
            "text/plain": [
              "[('No attempt', 10),\n",
              " ('Success (drone ship)', 5),\n",
              " ('Failure (drone ship)', 5),\n",
              " ('Success (ground pad)', 3),\n",
              " ('Controlled (ocean)', 3),\n",
              " ('Uncontrolled (ocean)', 2),\n",
              " ('Failure (parachute)', 2),\n",
              " ('Precluded (drone ship)', 1)]"
            ],
            "text/html": [
              "<table>\n",
              "    <thead>\n",
              "        <tr>\n",
              "            <th>Landing_Outcome</th>\n",
              "            <th>Count</th>\n",
              "        </tr>\n",
              "    </thead>\n",
              "    <tbody>\n",
              "        <tr>\n",
              "            <td>No attempt</td>\n",
              "            <td>10</td>\n",
              "        </tr>\n",
              "        <tr>\n",
              "            <td>Success (drone ship)</td>\n",
              "            <td>5</td>\n",
              "        </tr>\n",
              "        <tr>\n",
              "            <td>Failure (drone ship)</td>\n",
              "            <td>5</td>\n",
              "        </tr>\n",
              "        <tr>\n",
              "            <td>Success (ground pad)</td>\n",
              "            <td>3</td>\n",
              "        </tr>\n",
              "        <tr>\n",
              "            <td>Controlled (ocean)</td>\n",
              "            <td>3</td>\n",
              "        </tr>\n",
              "        <tr>\n",
              "            <td>Uncontrolled (ocean)</td>\n",
              "            <td>2</td>\n",
              "        </tr>\n",
              "        <tr>\n",
              "            <td>Failure (parachute)</td>\n",
              "            <td>2</td>\n",
              "        </tr>\n",
              "        <tr>\n",
              "            <td>Precluded (drone ship)</td>\n",
              "            <td>1</td>\n",
              "        </tr>\n",
              "    </tbody>\n",
              "</table>"
            ]
          },
          "metadata": {},
          "execution_count": 68
        }
      ]
    },
    {
      "cell_type": "code",
      "source": [
        "%sql select count(\"Mission_Outcome\") as MISSION_OUTCOME_COUNT,Launch_Site  from SPACEXTBL group by \"Launch_Site\";"
      ],
      "metadata": {
        "id": "M4-loiuvwfUy",
        "outputId": "5c42a57d-cbaf-4acb-99de-2a7b874e14e4",
        "colab": {
          "base_uri": "https://localhost:8080/",
          "height": 161
        }
      },
      "execution_count": null,
      "outputs": [
        {
          "output_type": "stream",
          "name": "stdout",
          "text": [
            " * sqlite:///data1.sql\n",
            "Done.\n"
          ]
        },
        {
          "output_type": "execute_result",
          "data": {
            "text/plain": [
              "[(26, 'CCAFS LC-40'),\n",
              " (34, 'CCAFS SLC-40'),\n",
              " (25, 'KSC LC-39A'),\n",
              " (16, 'VAFB SLC-4E')]"
            ],
            "text/html": [
              "<table>\n",
              "    <thead>\n",
              "        <tr>\n",
              "            <th>MISSION_OUTCOME_COUNT</th>\n",
              "            <th>Launch_Site</th>\n",
              "        </tr>\n",
              "    </thead>\n",
              "    <tbody>\n",
              "        <tr>\n",
              "            <td>26</td>\n",
              "            <td>CCAFS LC-40</td>\n",
              "        </tr>\n",
              "        <tr>\n",
              "            <td>34</td>\n",
              "            <td>CCAFS SLC-40</td>\n",
              "        </tr>\n",
              "        <tr>\n",
              "            <td>25</td>\n",
              "            <td>KSC LC-39A</td>\n",
              "        </tr>\n",
              "        <tr>\n",
              "            <td>16</td>\n",
              "            <td>VAFB SLC-4E</td>\n",
              "        </tr>\n",
              "    </tbody>\n",
              "</table>"
            ]
          },
          "metadata": {},
          "execution_count": 73
        }
      ]
    },
    {
      "cell_type": "code",
      "source": [],
      "metadata": {
        "id": "3IGbf9frybIj"
      },
      "execution_count": null,
      "outputs": []
    }
  ],
  "metadata": {
    "kernelspec": {
      "display_name": "Python 3",
      "language": "python",
      "name": "python3"
    },
    "language_info": {
      "codemirror_mode": {
        "name": "ipython",
        "version": 3
      },
      "file_extension": ".py",
      "mimetype": "text/x-python",
      "name": "python",
      "nbconvert_exporter": "python",
      "pygments_lexer": "ipython3",
      "version": "3.12.2"
    },
    "colab": {
      "provenance": [],
      "include_colab_link": true
    }
  },
  "nbformat": 4,
  "nbformat_minor": 0
}