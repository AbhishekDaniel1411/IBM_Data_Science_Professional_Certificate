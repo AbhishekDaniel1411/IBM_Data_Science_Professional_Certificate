{
  "cells": [
    {
      "cell_type": "markdown",
      "metadata": {
        "colab_type": "text",
        "id": "view-in-github"
      },
      "source": [
        "<a href=\"https://colab.research.google.com/github/AbhishekDaniel1411/IBM_Data_Science_Professional_Certificate/blob/main/Capstone_project/falcon9_landing_prediction/spacex_f9_dash.ipynb\" target=\"_parent\"><img src=\"https://colab.research.google.com/assets/colab-badge.svg\" alt=\"Open In Colab\"/></a>"
      ]
    },
    {
      "cell_type": "code",
      "execution_count": 1,
      "metadata": {
        "id": "BtD06hO3jJ0R"
      },
      "outputs": [],
      "source": [
        "\n",
        "#uncomment the following lines to install these libraries, if needed\n",
        "#!pip install pandas dash\n",
        "#!pip install jupyter-dash"
      ]
    },
    {
      "cell_type": "code",
      "execution_count": 2,
      "metadata": {
        "colab": {
          "base_uri": "https://localhost:8080/"
        },
        "id": "cz61B5pejT83",
        "outputId": "7500c128-ea31-4366-8c7e-ad6b9d720536"
      },
      "outputs": [
        {
          "name": "stderr",
          "output_type": "stream",
          "text": [
            "'wget' is not recognized as an internal or external command,\n",
            "operable program or batch file.\n"
          ]
        }
      ],
      "source": [
        "!wget \"https://cf-courses-data.s3.us.cloud-object-storage.appdomain.cloud/IBM-DS0321EN-SkillsNetwork/datasets/spacex_launch_dash.csv\"\n"
      ]
    },
    {
      "cell_type": "code",
      "execution_count": 3,
      "metadata": {
        "id": "ZzJIPoj6jzSj"
      },
      "outputs": [],
      "source": [
        "from dash import jupyter_dash\n",
        "\n",
        "jupyter_dash.default_mode=\"external\""
      ]
    },
    {
      "cell_type": "code",
      "execution_count": 4,
      "metadata": {
        "colab": {
          "base_uri": "https://localhost:8080/",
          "height": 191
        },
        "id": "l9dzCRa5jC-_",
        "outputId": "826a5b4f-feab-4cb9-dd9a-44d52453d9fe"
      },
      "outputs": [
        {
          "name": "stdout",
          "output_type": "stream",
          "text": [
            "Dash app running on http://127.0.0.1:8050/\n"
          ]
        }
      ],
      "source": [
        "# Import required libraries\n",
        "import pandas as pd\n",
        "import dash\n",
        "from dash import html\n",
        "from dash import dcc\n",
        "#import dash_html_components as html\n",
        "#import dash_core_components as dcc\n",
        "from dash.dependencies import Input, Output\n",
        "import plotly.express as px\n",
        "\n",
        "# Read the airline data into pandas dataframe\n",
        "spacex_df = pd.read_csv(\"spacex_launch_dash.csv\")\n",
        "max_payload = spacex_df['Payload Mass (kg)'].max()\n",
        "min_payload = spacex_df['Payload Mass (kg)'].min()\n",
        "\n",
        "mark_values = {0:'0', 100:'100', 500:'500', 1000:'1,000', 2000:'2,000',\n",
        "               3000:'3,000', 4000:'4,000', 5000:'5,000', 6000:'6,000',\n",
        "               7000:'7,000', 8000:'8,000', 9000:'9,000', 10000:'10,000'}\n",
        "\n",
        "# Create a dash application\n",
        "app = dash.Dash(__name__)\n",
        "\n",
        "# Create an app layout\n",
        "app.layout = html.Div(children=[html.H1('SpaceX Launch Records Dashboard',\n",
        "                                        style={'textAlign': 'center', 'color': '#503D36',\n",
        "                                               'font-size': 40}),\n",
        "                                # TASK 1: Add a dropdown list to enable Launch Site selection\n",
        "                                # The default select value is for ALL sites\n",
        "                                dcc.Dropdown(id='site-dropdown',\n",
        "                                options = [\n",
        "                                    {'label': 'All Sites', 'value':'ALL'},\n",
        "                                    {'label': 'CCAFS LC-40', 'value':'CCAFS LC-40'},\n",
        "                                    {'label': 'CCAFS SLC-40', 'value':'CCAFS SLC-40'},\n",
        "                                    {'label': 'VAFB SLC-4E', 'value': 'VAFB SLC-4E'},\n",
        "                                    {'label': 'KSC LC-39A', 'value': 'KSC LC-39A'}\n",
        "                                    ],\n",
        "                                value = 'ALL',\n",
        "                                placeholder = 'Launch Sites',\n",
        "                                searchable = True\n",
        "                                ),\n",
        "                                html.Br(),\n",
        "\n",
        "                                # TASK 2: Add a pie chart to show the total successful launches count for all sites\n",
        "                                # If a specific launch site was selected, show the Success vs. Failed counts for the site\n",
        "                                html.Div([dcc.Graph(id='success-pie-chart')]),\n",
        "                                html.Br(),\n",
        "\n",
        "                                html.P(\"Payload range (Kg):\"),\n",
        "                                # TASK 3: Add a slider to select payload range\n",
        "                                dcc.RangeSlider(id='payload-slider',\n",
        "                                                min = 0, max = 10000, step=1000,\n",
        "                                                marks = mark_values,\n",
        "                                                value = [max_payload, max_payload]),\n",
        "\n",
        "                                # TASK 4: Add a scatter chart to show the correlation between payload and launch success\n",
        "                                html.Div([dcc.Graph(id='success-payload-scatter-chart')])\n",
        "                                ])\n",
        "\n",
        "# TASK 2:\n",
        "# Add a callback function for `site-dropdown` as input, `success-pie-chart` as output\n",
        "@app.callback(Output(component_id='success-pie-chart', component_property='figure'),\n",
        "              Input(component_id='site-dropdown', component_property='value'))\n",
        "\n",
        "def get_pie_chart(entered_site):\n",
        "    filtered_df = spacex_df\n",
        "    if entered_site == 'ALL':\n",
        "        fig = px.pie(spacex_df, values = 'class',\n",
        "                     names = 'Launch Site',\n",
        "                     title = 'Total Successful launches by sites')\n",
        "        return fig\n",
        "    else:\n",
        "        sites_grpd = spacex_df.groupby(['Launch Site', 'class'])['Flight Number'].count().reset_index()\n",
        "        temp = sites_grpd[sites_grpd['Launch Site'].str.contains(entered_site)]\n",
        "        fig = px.pie(temp, values = 'Flight Number',\n",
        "                     names = 'class',\n",
        "                     title= f'Performance for the site {entered_site}')\n",
        "        return fig\n",
        "\n",
        "\n",
        "\n",
        "# TASK 4:\n",
        "# Add a callback function for `site-dropdown` and `payload-slider` as inputs, `success-payload-scatter-chart` as output\n",
        "@app.callback(Output(component_id='success-payload-scatter-chart', component_property='figure'),\n",
        "              [Input(component_id='site-dropdown', component_property='value'),\n",
        "               Input(component_id='payload-slider', component_property='value')])\n",
        "\n",
        "def get_scatter_plot(entered_site, selected_range):\n",
        "    if entered_site == 'ALL':\n",
        "        selected_range == [min_payload, max_payload]\n",
        "        payload_mask = (spacex_df['Payload Mass (kg)'] >= selected_range[0]) & (spacex_df['Payload Mass (kg)'] <= selected_range [1])\n",
        "        payload_data = spacex_df[payload_mask]\n",
        "        fig = px.scatter(payload_data,\n",
        "                         x = 'Payload Mass (kg)', y = 'class',\n",
        "                         color = 'Booster Version Category',\n",
        "                         title= 'Correlation between Payload and Success for all sites')\n",
        "        return fig\n",
        "    else:\n",
        "        filtered_data = spacex_df[spacex_df['Launch Site'] ==  entered_site]\n",
        "        payload_mask = (filtered_data['Payload Mass (kg)'] >= selected_range[0]) & (filtered_data['Payload Mass (kg)'] <= selected_range [1])\n",
        "        payload_data = filtered_data[payload_mask]\n",
        "        fig = px.scatter(payload_data,\n",
        "                         x = 'Payload Mass (kg)', y = 'class',\n",
        "                         color = 'Booster Version Category',\n",
        "                         title= f'Correlation between Payload and Success for {entered_site}')\n",
        "        return fig\n",
        "\n",
        "\n",
        "\n",
        "\n",
        "# Run the app\n",
        "if __name__ == '__main__':\n",
        "    app.run_server()\n"
      ]
    },
    {
      "cell_type": "code",
      "execution_count": null,
      "metadata": {
        "id": "nbSo2o4VjH9x"
      },
      "outputs": [],
      "source": []
    }
  ],
  "metadata": {
    "colab": {
      "authorship_tag": "ABX9TyNuG0rzu/iALgs1KEg0baGi",
      "include_colab_link": true,
      "provenance": []
    },
    "kernelspec": {
      "display_name": "Python 3",
      "name": "python3"
    },
    "language_info": {
      "codemirror_mode": {
        "name": "ipython",
        "version": 3
      },
      "file_extension": ".py",
      "mimetype": "text/x-python",
      "name": "python",
      "nbconvert_exporter": "python",
      "pygments_lexer": "ipython3",
      "version": "3.12.2"
    }
  },
  "nbformat": 4,
  "nbformat_minor": 0
}
