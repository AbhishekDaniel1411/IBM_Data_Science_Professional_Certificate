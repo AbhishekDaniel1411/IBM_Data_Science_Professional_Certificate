{
  "nbformat": 4,
  "nbformat_minor": 0,
  "metadata": {
    "colab": {
      "provenance": [],
      "authorship_tag": "ABX9TyMnw0sGpUex3KPZFL/leglp",
      "include_colab_link": true
    },
    "kernelspec": {
      "name": "python3",
      "display_name": "Python 3"
    },
    "language_info": {
      "name": "python"
    }
  },
  "cells": [
    {
      "cell_type": "markdown",
      "metadata": {
        "id": "view-in-github",
        "colab_type": "text"
      },
      "source": [
        "<a href=\"https://colab.research.google.com/github/AbhishekDaniel1411/IBM_Data_Science_Professional_Certificate/blob/main/Data_Visualization_with_python/Wildfires_in_Australia/Dash_wildfire.ipynb\" target=\"_parent\"><img src=\"https://colab.research.google.com/assets/colab-badge.svg\" alt=\"Open In Colab\"/></a>"
      ]
    },
    {
      "cell_type": "code",
      "execution_count": 1,
      "metadata": {
        "id": "rK3_aVCvvrd9"
      },
      "outputs": [],
      "source": [
        "#Importing Libraries\n",
        "import pandas as pd\n",
        "import dash\n",
        "from dash import html, dcc\n",
        "from dash.dependencies import Input, Output, State\n",
        "import plotly.graph_objects as go\n",
        "import plotly.express as px\n",
        "from dash import no_update\n",
        "import datetime as dt\n",
        "\n",
        "#Config to show the app externally\n",
        "from dash import jupyter_dash\n",
        "\n",
        "jupyter_dash.default_mode=\"external\""
      ]
    },
    {
      "cell_type": "code",
      "source": [
        "#Create app\n",
        "app = dash.Dash(__name__)\n",
        "\n",
        "#Clear the layout and do not display exception till callback gets executed\n",
        "app.config.suppress_callback_exceptions = True"
      ],
      "metadata": {
        "id": "yQfX8CVDv-pP"
      },
      "execution_count": 2,
      "outputs": []
    },
    {
      "cell_type": "code",
      "source": [
        "# Read the wildfire data into pandas dataframe\n",
        "df =  pd.read_csv('https://cf-courses-data.s3.us.cloud-object-storage.appdomain.cloud/IBMDeveloperSkillsNetwork-DV0101EN-SkillsNetwork/Data%20Files/Historical_Wildfires.csv')\n",
        "\n",
        "#Extract year and month from the date column\n",
        "df['Month'] = pd.to_datetime(df['Date']).dt.month_name() #used for the names of the months\n",
        "df['Year'] = pd.to_datetime(df['Date']).dt.year"
      ],
      "metadata": {
        "id": "0plEyE4kxl7F"
      },
      "execution_count": 3,
      "outputs": []
    },
    {
      "cell_type": "code",
      "source": [
        "#Layout Section of Dash\n",
        "app.layout = html.Div(children=[html.H1('Australia Wildfire Dashboard',\n",
        "                                style={'textAlign': 'center', 'color': '#503D36',\n",
        "                                'font-size': 26}),\n",
        "     #outer division starts\n",
        "     html.Div([\n",
        "                   # First inner divsion for adding dropdown helper text for Selected Drive wheels\n",
        "                    html.Div([\n",
        "                            html.H2('Select Region:', style={'margin-right': '2em'}),\n",
        "                    #Radio items to select the region\n",
        "                    #dcc.RadioItems(['NSW','QL','SA','TA','VI','WA'], 'NSW', id='region',inline=True)]),\n",
        "                    dcc.RadioItems([{\"label\":\"New South Wales\",\"value\": \"NSW\"},\n",
        "                                    {\"label\":\"Northern Territory\",\"value\": \"NT\"},\n",
        "                                    {\"label\":\"Queensland\",\"value\": \"QL\"},\n",
        "                                    {\"label\":\"South Australia\",\"value\": \"SA\"},\n",
        "                                    {\"label\":\"Tasmania\",\"value\": \"TA\"},\n",
        "                                    {\"label\":\"Victoria\",\"value\": \"VI\"},\n",
        "                                    {\"label\":\"Western Australia\",\"value\": \"WA\"}],\"NSW\", id='region',inline=True)]),\n",
        "                    #Dropdown to select year\n",
        "                    html.Div([\n",
        "                            html.H2('Select Year:', style={'margin-right': '2em'}),\n",
        "                        dcc.Dropdown(df.Year.unique(), value = 2005,id='year')\n",
        "                    ]),\n",
        "         #Second Inner division for adding 2 inner divisions for 2 output graphs\n",
        "                    html.Div([\n",
        "\n",
        "                        html.Div([ ], id='plot1'),\n",
        "                        html.Div([ ], id='plot2')\n",
        "                    ], style={'display': 'flex'}),\n",
        "\n",
        "    ])\n",
        "\n",
        "#outer division ends\n",
        "])\n",
        "#layout ends"
      ],
      "metadata": {
        "id": "yIe9HIn1xupo"
      },
      "execution_count": 4,
      "outputs": []
    },
    {
      "cell_type": "code",
      "source": [
        "#Place to add @app.callback Decorator\n",
        "@app.callback([Output(component_id='plot1', component_property='children'),\n",
        "               Output(component_id='plot2', component_property='children')],\n",
        "               [Input(component_id='region', component_property='value'),\n",
        "                Input(component_id='year', component_property='value')])\n",
        "\n",
        "#Place to define the callback function .\n",
        "def reg_year_display(input_region,input_year):\n",
        "    #data\n",
        "   region_data = df[df['Region'] == input_region]\n",
        "   y_r_data = region_data[region_data['Year']==input_year]\n",
        "    #Plot one - Monthly Average Estimated Fire Area\n",
        "   est_data = y_r_data.groupby('Month')['Estimated_fire_area'].mean().reset_index()\n",
        "   fig1 = px.pie(est_data, values='Estimated_fire_area', names='Month', title=\"{} : Monthly Average Estimated Fire Area in year {}\".format(input_region,input_year))\n",
        "     #Plot two - Monthly Average Count of Pixels for Presumed Vegetation Fires\n",
        "   veg_data = y_r_data.groupby('Month')['Count'].mean().reset_index()\n",
        "   fig2 = px.bar(veg_data, x='Month', y='Count', title='{} : Average Count of Pixels for Presumed Vegetation Fires in year {}'.format(input_region,input_year))\n",
        "   return [dcc.Graph(figure=fig1),\n",
        "            dcc.Graph(figure=fig2)]\n",
        "\n",
        "\n",
        "if __name__ == '__main__':\n",
        "    app.run_server()"
      ],
      "metadata": {
        "colab": {
          "base_uri": "https://localhost:8080/",
          "height": 52
        },
        "id": "J36iueniyUtQ",
        "outputId": "49fcc250-ceef-4117-9da1-5862896b4298"
      },
      "execution_count": 5,
      "outputs": [
        {
          "output_type": "stream",
          "name": "stdout",
          "text": [
            "Dash app running on:\n"
          ]
        },
        {
          "output_type": "display_data",
          "data": {
            "text/plain": [
              "<IPython.core.display.Javascript object>"
            ],
            "application/javascript": [
              "(async (port, path, text, element) => {\n",
              "    if (!google.colab.kernel.accessAllowed) {\n",
              "      return;\n",
              "    }\n",
              "    element.appendChild(document.createTextNode(''));\n",
              "    const url = await google.colab.kernel.proxyPort(port);\n",
              "    const anchor = document.createElement('a');\n",
              "    anchor.href = new URL(path, url).toString();\n",
              "    anchor.target = '_blank';\n",
              "    anchor.setAttribute('data-href', url + path);\n",
              "    anchor.textContent = text;\n",
              "    element.appendChild(anchor);\n",
              "  })(8050, \"/\", \"http://127.0.0.1:8050/\", window.element)"
            ]
          },
          "metadata": {}
        }
      ]
    },
    {
      "cell_type": "code",
      "source": [],
      "metadata": {
        "id": "y6kv4NwEyYVn"
      },
      "execution_count": 5,
      "outputs": []
    }
  ]
}